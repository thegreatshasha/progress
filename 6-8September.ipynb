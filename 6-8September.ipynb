{
 "cells": [
  {
   "cell_type": "markdown",
   "metadata": {
    "deletable": true,
    "editable": true
   },
   "source": [
    "## Loss calculation example"
   ]
  },
  {
   "cell_type": "code",
   "execution_count": 1,
   "metadata": {
    "collapsed": false,
    "deletable": true,
    "editable": true
   },
   "outputs": [],
   "source": [
    "import chainer as c"
   ]
  },
  {
   "cell_type": "code",
   "execution_count": 2,
   "metadata": {
    "collapsed": false,
    "deletable": true,
    "editable": true
   },
   "outputs": [],
   "source": [
    "import numpy as np\n",
    "import chainer\n",
    "from chainer import cuda, Function, gradient_check, report, training, utils, Variable\n",
    "from chainer import datasets, iterators, optimizers, serializers\n",
    "from chainer import Link, Chain, ChainList\n",
    "import chainer.functions as F\n",
    "import chainer.links as L\n",
    "from chainer.training import extensions"
   ]
  },
  {
   "cell_type": "markdown",
   "metadata": {
    "deletable": true,
    "editable": true
   },
   "source": [
    "## IOU computation"
   ]
  },
  {
   "cell_type": "code",
   "execution_count": 3,
   "metadata": {
    "collapsed": false,
    "deletable": true,
    "editable": true
   },
   "outputs": [],
   "source": [
    "#%pdb\n",
    "\n",
    "#from chainer.functions import maximum, minimum\n",
    "\n",
    "def iou(boxA, boxB):\n",
    "    \n",
    "    \n",
    "\t# determine the (x, y)-coordinates of the intersection rectangle\n",
    "\txA = max(boxA[0], boxB[0])\n",
    "\tyA = max(boxA[1], boxB[1])\n",
    "\txB = min((boxA[0]+boxA[2]), (boxB[0]+boxB[2]))\n",
    "\tyB = min((boxA[1]+boxA[3]), (boxB[1]+boxB[3]))\n",
    " \n",
    "\tinterArea = (xB - xA) * (yB - yA)\n",
    " \n",
    "\t# compute the area of both the prediction and ground-truth\n",
    "\t# rectangles\n",
    "\tboxAArea = boxA[2]*boxA[3]\n",
    "\tboxBArea = boxB[2]*boxB[3]\n",
    " \n",
    "\t# compute the intersection over union by taking the intersection\n",
    "\t# area and dividing it by the sum of prediction + ground-truth\n",
    "\t# areas - the interesection area\n",
    "\tiou = interArea / (boxAArea + boxBArea - interArea)\n",
    " \n",
    "\t# return the intersection over union value\n",
    "\treturn iou"
   ]
  },
  {
   "cell_type": "code",
   "execution_count": null,
   "metadata": {
    "collapsed": true,
    "deletable": true,
    "editable": true
   },
   "outputs": [],
   "source": []
  },
  {
   "cell_type": "markdown",
   "metadata": {
    "deletable": true,
    "editable": true
   },
   "source": [
    "## Naive matching in python and chainer"
   ]
  },
  {
   "cell_type": "code",
   "execution_count": 4,
   "metadata": {
    "collapsed": false,
    "deletable": true,
    "editable": true
   },
   "outputs": [
    {
     "name": "stdout",
     "output_type": "stream",
     "text": [
      "('matches: ', array([[ 0.66666667,  0.04166667],\n",
      "       [ 1.        ,  0.0625    ]]))\n",
      "('positive matches: ', array([[ 0.,  0.],\n",
      "       [ 1.,  0.]]))\n",
      "('negative matches: ', array([[ 0.66666667,  0.        ],\n",
      "       [ 0.        ,  0.        ]]))\n"
     ]
    }
   ],
   "source": [
    "max_boxes = 4\n",
    "\n",
    "\n",
    "boxes1 = Variable(np.array([[ 0.,  0.,  6.,  4., 1., 0.], [0., 0., 4., 4., 0., 1.]]))\n",
    "boxes2 = Variable(np.array([[ 0.,  0.,  4.,  4., 0, 1], [1., 1., 1., 1., 1, 0]]))\n",
    "\n",
    "# Construct matches: CPU\n",
    "matches = np.zeros((boxes1.shape[0], boxes2.shape[0]))\n",
    "\n",
    "positives = np.zeros((boxes1.shape[0], boxes2.shape[0]))\n",
    "negatives = np.zeros((boxes1.shape[0], boxes2.shape[0]))\n",
    "\n",
    "for i, box1 in enumerate(boxes1):\n",
    "    for j, box2 in enumerate(boxes2):\n",
    "        #print(iou(box1.data, box2.data))\n",
    "        overlap = iou(box1.data, box2.data)\n",
    "        matches[i][j] = overlap\n",
    "        \n",
    "        \"\"\" Check connectivity \"\"\"\n",
    "        if overlap>0.5:\n",
    "            if np.argmax(box1.data[4:]) == np.argmax(box2.data[4:]):\n",
    "                positives[i][j] = overlap\n",
    "            else:\n",
    "                negatives[i][j] = overlap\n",
    "        \n",
    "# Construct positive negative loss kernel : CPU\n",
    "print(\"matches: \", matches)\n",
    "print(\"positive matches: \", positives)\n",
    "print(\"negative matches: \", negatives)\n",
    "\n",
    "# Metrics on the positive array\n",
    "#matches.\n",
    "\n",
    "# Positive boxes indices to sample\n",
    "\n",
    "# Negative boxes indices to sample\n",
    "\n",
    "# Construct loss matrix by appending variable: CPU\n",
    "\n",
    "# Construct loss variable as a for loop by appending positive negative\n",
    "\n",
    "#print(iou(boxes1[0], boxes2[0]))\n",
    "#boxA = boxes1[0]\n",
    "#boxB = boxes2[0]\n",
    "#min(boxA[0]+boxA[2], boxB[0]+boxB[2])"
   ]
  },
  {
   "cell_type": "code",
   "execution_count": 5,
   "metadata": {
    "collapsed": false,
    "deletable": true,
    "editable": true
   },
   "outputs": [
    {
     "name": "stdout",
     "output_type": "stream",
     "text": [
      "(array([[[0, 0],\n",
      "        [0, 1],\n",
      "        [1, 1],\n",
      "        [1, 0]]]), array([[[0, 1],\n",
      "        [1, 0],\n",
      "        [1, 1],\n",
      "        [0, 0]]]))\n",
      "(1, 1)\n"
     ]
    }
   ],
   "source": [
    "#matches.argsort()\n",
    "\n",
    "\"\"\" Get sorted indices \"\"\"\n",
    "positive_indices = np.dstack(np.unravel_index(np.argsort(positives.ravel()), (2,2)))\n",
    "negative_indices = np.dstack(np.unravel_index(np.argsort(negatives.ravel()), (2,2)))\n",
    "\n",
    "\"\"\" Get counts of both positive and negative \"\"\"\n",
    "positive_count = np.count_nonzero(positives)\n",
    "negative_count = np.count_nonzero(negatives)\n",
    "\n",
    "print(positive_indices, negative_indices)\n",
    "print(positive_count, negative_count)"
   ]
  },
  {
   "cell_type": "code",
   "execution_count": 6,
   "metadata": {
    "collapsed": false,
    "deletable": true,
    "editable": true
   },
   "outputs": [],
   "source": [
    "## Positive indices give us the positive indices\n",
    "tosample = positive_count\n",
    "\n",
    "positive_indices_sampled = positive_indices[0][0:tosample]\n",
    "negative_indices_sampled = negative_indices[0][0:tosample]"
   ]
  },
  {
   "cell_type": "markdown",
   "metadata": {
    "deletable": true,
    "editable": true
   },
   "source": [
    "## Loss calculation from indices"
   ]
  },
  {
   "cell_type": "code",
   "execution_count": 7,
   "metadata": {
    "collapsed": false,
    "deletable": true,
    "editable": true
   },
   "outputs": [
    {
     "name": "stdout",
     "output_type": "stream",
     "text": [
      "(variable(0.3132616875182228), variable(1.0))\n"
     ]
    }
   ],
   "source": [
    "\n",
    "from chainer.functions import softmax_cross_entropy, cast, mean_squared_error, argmax\n",
    "\n",
    "## Let's iterate over the positive indices and negative indices and add up the loss\n",
    "loss_class = 0.\n",
    "loss_reg = 0.\n",
    "\n",
    "for i, j in negative_indices_sampled:\n",
    "    p1 = boxes1[i][4:].reshape(1,2)\n",
    "    p2 = argmax(boxes2[j][4:]).reshape(1)\n",
    "    \n",
    "    \"\"\" Softmax error \"\"\"\n",
    "    loss_class += softmax_cross_entropy(p1, p2)\n",
    "    \n",
    "    \"\"\" Mean squared error between the two boxes \"\"\"\n",
    "    box1 = cast(boxes1[0][:4], np.float32)\n",
    "    box2 = cast(boxes2[0][:4], np.float32)\n",
    "    loss_reg += mean_squared_error(box1, box2)\n",
    "    #print(i,j)\n",
    "    \n",
    "#print(positive_indices_sampled, negative_indices_sampled)\n",
    "\n",
    "#loss_class += np.dot(boxes1[i], boxes2[j])\n",
    "\n",
    "print(loss_class, loss_reg)"
   ]
  },
  {
   "cell_type": "markdown",
   "metadata": {
    "deletable": true,
    "editable": true
   },
   "source": [
    "## YES! Loss calculation finally works, let's verify the calculations"
   ]
  },
  {
   "cell_type": "markdown",
   "metadata": {
    "deletable": true,
    "editable": true
   },
   "source": [
    "## Now we have loss working for box variable. Let's add in the rest of the network"
   ]
  },
  {
   "cell_type": "markdown",
   "metadata": {},
   "source": [
    "## Conv layers"
   ]
  },
  {
   "cell_type": "markdown",
   "metadata": {
    "collapsed": false,
    "deletable": true,
    "editable": true
   },
   "source": [
    "## Delta generation"
   ]
  },
  {
   "cell_type": "markdown",
   "metadata": {},
   "source": [
    "## Inverse bbox transform"
   ]
  },
  {
   "cell_type": "markdown",
   "metadata": {},
   "source": [
    "## BBox transform"
   ]
  },
  {
   "cell_type": "markdown",
   "metadata": {},
   "source": [
    "## Generating random squares in chainer and drawing image"
   ]
  },
  {
   "cell_type": "code",
   "execution_count": null,
   "metadata": {
    "collapsed": true
   },
   "outputs": [],
   "source": []
  }
 ],
 "metadata": {
  "kernelspec": {
   "display_name": "Python 2",
   "language": "python",
   "name": "python2"
  },
  "language_info": {
   "codemirror_mode": {
    "name": "ipython",
    "version": 2
   },
   "file_extension": ".py",
   "mimetype": "text/x-python",
   "name": "python",
   "nbconvert_exporter": "python",
   "pygments_lexer": "ipython2",
   "version": "2.7.12"
  },
  "toc": {
   "colors": {
    "hover_highlight": "#DAA520",
    "navigate_num": "#000000",
    "navigate_text": "#333333",
    "running_highlight": "#FF0000",
    "selected_highlight": "#FFD700",
    "sidebar_border": "#EEEEEE",
    "wrapper_background": "#FFFFFF"
   },
   "moveMenuLeft": true,
   "navigate_menu": false,
   "number_sections": true,
   "sideBar": true,
   "threshold": 4,
   "toc_cell": false,
   "toc_position": {
    "height": "485px",
    "left": "0px",
    "right": "864.667px",
    "top": "106px",
    "width": "212px"
   },
   "toc_section_display": "block",
   "toc_window_display": true,
   "widenNotebook": false
  }
 },
 "nbformat": 4,
 "nbformat_minor": 2
}
